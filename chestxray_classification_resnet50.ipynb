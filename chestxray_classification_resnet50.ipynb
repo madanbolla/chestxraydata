{
  "nbformat": 4,
  "nbformat_minor": 0,
  "metadata": {
    "colab": {
      "name": "chestxray_classification_resnet50.ipynb",
      "provenance": [],
      "authorship_tag": "ABX9TyP42SxDRSRSg0ltcM31LSR6",
      "include_colab_link": true
    },
    "kernelspec": {
      "name": "python3",
      "display_name": "Python 3"
    },
    "accelerator": "GPU"
  },
  "cells": [
    {
      "cell_type": "markdown",
      "metadata": {
        "id": "view-in-github",
        "colab_type": "text"
      },
      "source": [
        "<a href=\"https://colab.research.google.com/github/madanbolla/chestxraydata/blob/master/chestxray_classification_resnet50.ipynb\" target=\"_parent\"><img src=\"https://colab.research.google.com/assets/colab-badge.svg\" alt=\"Open In Colab\"/></a>"
      ]
    },
    {
      "cell_type": "code",
      "metadata": {
        "id": "66VSlYgIDBTe",
        "colab_type": "code",
        "colab": {
          "base_uri": "https://localhost:8080/",
          "height": 153
        },
        "outputId": "a9987905-90a0-45bd-aef7-39afb8b93917"
      },
      "source": [
        "!git clone https://github.com/madanbolla/chestxraydata.git"
      ],
      "execution_count": 1,
      "outputs": [
        {
          "output_type": "stream",
          "text": [
            "Cloning into 'chestxraydata'...\n",
            "remote: Enumerating objects: 6, done.\u001b[K\n",
            "remote: Counting objects: 100% (6/6), done.\u001b[K\n",
            "remote: Compressing objects: 100% (6/6), done.\u001b[K\n",
            "remote: Total 8242 (delta 2), reused 0 (delta 0), pack-reused 8236\u001b[K\n",
            "Receiving objects: 100% (8242/8242), 1.15 GiB | 41.35 MiB/s, done.\n",
            "Resolving deltas: 100% (2/2), done.\n",
            "Checking out files: 100% (8257/8257), done.\n"
          ],
          "name": "stdout"
        }
      ]
    },
    {
      "cell_type": "code",
      "metadata": {
        "id": "3IP-78--NIN2",
        "colab_type": "code",
        "colab": {}
      },
      "source": [
        "!pip install -q ktrain"
      ],
      "execution_count": 3,
      "outputs": []
    },
    {
      "cell_type": "code",
      "metadata": {
        "id": "NS3NAj2YMfDJ",
        "colab_type": "code",
        "colab": {}
      },
      "source": [
        "import ktrain\n",
        "from ktrain import vision as vis"
      ],
      "execution_count": 4,
      "outputs": []
    },
    {
      "cell_type": "code",
      "metadata": {
        "id": "eF1M2huROEU2",
        "colab_type": "code",
        "colab": {
          "base_uri": "https://localhost:8080/",
          "height": 85
        },
        "outputId": "0dbeda1e-2dcc-480e-e043-af7dfaeb933a"
      },
      "source": [
        "(trn, val, preproc) = vis.images_from_folder(\n",
        "                                              datadir='/content/chestxraydata/chest_xray',\n",
        "                                              data_aug = vis.get_data_aug(horizontal_flip=True),\n",
        "                                              train_test_names=['train', 'test'], target_size=(224,224))"
      ],
      "execution_count": 5,
      "outputs": [
        {
          "output_type": "stream",
          "text": [
            "color_mode detected (grayscale) different than color_mode selected (rgb)\n",
            "Found 7616 images belonging to 2 classes.\n",
            "Found 7616 images belonging to 2 classes.\n",
            "Found 624 images belonging to 2 classes.\n"
          ],
          "name": "stdout"
        }
      ]
    },
    {
      "cell_type": "code",
      "metadata": {
        "id": "Z0dd0UIdOQAl",
        "colab_type": "code",
        "colab": {
          "base_uri": "https://localhost:8080/",
          "height": 156
        },
        "outputId": "15103100-8319-446a-9648-d60badf2a539"
      },
      "source": [
        "model = vis.image_classifier('pretrained_resnet50', trn, val, freeze_layers=15)\n",
        "learner = ktrain.get_learner(model=model, train_data=trn, val_data=val, \n",
        "                             workers=8, use_multiprocessing=False, batch_size=64)"
      ],
      "execution_count": 6,
      "outputs": [
        {
          "output_type": "stream",
          "text": [
            "The normalization scheme has been changed for use with a pretrained_resnet50 model. If you decide to use a different model, please reload your dataset with a ktrain.vision.data.images_from* function.\n",
            "\n",
            "Is Multi-Label? False\n",
            "Is Regression? False\n",
            "Downloading data from https://github.com/keras-team/keras-applications/releases/download/resnet/resnet50_weights_tf_dim_ordering_tf_kernels_notop.h5\n",
            "94773248/94765736 [==============================] - 1s 0us/step\n",
            "pretrained_resnet50 model created.\n"
          ],
          "name": "stdout"
        }
      ]
    },
    {
      "cell_type": "code",
      "metadata": {
        "id": "DpUYLNV9i3yu",
        "colab_type": "code",
        "colab": {
          "base_uri": "https://localhost:8080/",
          "height": 1000
        },
        "outputId": "1444e32a-11db-4724-8993-77b6d09dc446"
      },
      "source": [
        "learner.print_layers()"
      ],
      "execution_count": 7,
      "outputs": [
        {
          "output_type": "stream",
          "text": [
            "0 (trainable=False) : <tensorflow.python.keras.engine.input_layer.InputLayer object at 0x7f5a5a122f28>\n",
            "1 (trainable=False) : <tensorflow.python.keras.layers.convolutional.ZeroPadding2D object at 0x7f5a5a1386d8>\n",
            "2 (trainable=False) : <tensorflow.python.keras.layers.convolutional.Conv2D object at 0x7f5a5a138fd0>\n",
            "3 (trainable=False) : <tensorflow.python.keras.layers.normalization.BatchNormalization object at 0x7f5a5a138e48>\n",
            "4 (trainable=False) : <tensorflow.python.keras.layers.core.Activation object at 0x7f5a5785d128>\n",
            "5 (trainable=False) : <tensorflow.python.keras.layers.convolutional.ZeroPadding2D object at 0x7f5a5a0af470>\n",
            "6 (trainable=False) : <tensorflow.python.keras.layers.pooling.MaxPooling2D object at 0x7f5a5a0af7f0>\n",
            "7 (trainable=False) : <tensorflow.python.keras.layers.convolutional.Conv2D object at 0x7f5a577cdb38>\n",
            "8 (trainable=False) : <tensorflow.python.keras.layers.normalization.BatchNormalization object at 0x7f5a577cd748>\n",
            "9 (trainable=False) : <tensorflow.python.keras.layers.core.Activation object at 0x7f5a59bfed30>\n",
            "10 (trainable=False) : <tensorflow.python.keras.layers.convolutional.Conv2D object at 0x7f5a59bfec18>\n",
            "11 (trainable=False) : <tensorflow.python.keras.layers.normalization.BatchNormalization object at 0x7f5a59bade10>\n",
            "12 (trainable=False) : <tensorflow.python.keras.layers.core.Activation object at 0x7f5a59baddd8>\n",
            "13 (trainable=False) : <tensorflow.python.keras.layers.convolutional.Conv2D object at 0x7f5a577c0860>\n",
            "14 (trainable=False) : <tensorflow.python.keras.layers.convolutional.Conv2D object at 0x7f5a59bb6128>\n",
            "15 (trainable=True) : <tensorflow.python.keras.layers.normalization.BatchNormalization object at 0x7f5a577c0f60>\n",
            "16 (trainable=True) : <tensorflow.python.keras.layers.normalization.BatchNormalization object at 0x7f5a59bdbeb8>\n",
            "17 (trainable=True) : <tensorflow.python.keras.layers.merge.Add object at 0x7f5a59bdbe80>\n",
            "18 (trainable=True) : <tensorflow.python.keras.layers.core.Activation object at 0x7f5a59be51d0>\n",
            "19 (trainable=True) : <tensorflow.python.keras.layers.convolutional.Conv2D object at 0x7f5a59be5240>\n",
            "20 (trainable=True) : <tensorflow.python.keras.layers.normalization.BatchNormalization object at 0x7f5a59b8cc50>\n",
            "21 (trainable=True) : <tensorflow.python.keras.layers.core.Activation object at 0x7f5a59b95da0>\n",
            "22 (trainable=True) : <tensorflow.python.keras.layers.convolutional.Conv2D object at 0x7f5a59b95128>\n",
            "23 (trainable=True) : <tensorflow.python.keras.layers.normalization.BatchNormalization object at 0x7f5a59b3bef0>\n",
            "24 (trainable=True) : <tensorflow.python.keras.layers.core.Activation object at 0x7f5a59b44e48>\n",
            "25 (trainable=True) : <tensorflow.python.keras.layers.convolutional.Conv2D object at 0x7f5a59b44080>\n",
            "26 (trainable=True) : <tensorflow.python.keras.layers.normalization.BatchNormalization object at 0x7f5a59b68ef0>\n",
            "27 (trainable=True) : <tensorflow.python.keras.layers.merge.Add object at 0x7f5a59af4ef0>\n",
            "28 (trainable=True) : <tensorflow.python.keras.layers.core.Activation object at 0x7f5a59af4128>\n",
            "29 (trainable=True) : <tensorflow.python.keras.layers.convolutional.Conv2D object at 0x7f5a59af47b8>\n",
            "30 (trainable=True) : <tensorflow.python.keras.layers.normalization.BatchNormalization object at 0x7f5a59b25898>\n",
            "31 (trainable=True) : <tensorflow.python.keras.layers.core.Activation object at 0x7f5a59aaf358>\n",
            "32 (trainable=True) : <tensorflow.python.keras.layers.convolutional.Conv2D object at 0x7f5a59b25550>\n",
            "33 (trainable=True) : <tensorflow.python.keras.layers.normalization.BatchNormalization object at 0x7f5a59ad3940>\n",
            "34 (trainable=True) : <tensorflow.python.keras.layers.core.Activation object at 0x7f5a59ade400>\n",
            "35 (trainable=True) : <tensorflow.python.keras.layers.convolutional.Conv2D object at 0x7f5a59ad35f8>\n",
            "36 (trainable=True) : <tensorflow.python.keras.layers.normalization.BatchNormalization object at 0x7f5a59a849e8>\n",
            "37 (trainable=True) : <tensorflow.python.keras.layers.merge.Add object at 0x7f5a59a8c4a8>\n",
            "38 (trainable=True) : <tensorflow.python.keras.layers.core.Activation object at 0x7f5a59a846a0>\n",
            "39 (trainable=True) : <tensorflow.python.keras.layers.convolutional.Conv2D object at 0x7f5a59a32dd8>\n",
            "40 (trainable=True) : <tensorflow.python.keras.layers.normalization.BatchNormalization object at 0x7f5a59a3c4e0>\n",
            "41 (trainable=True) : <tensorflow.python.keras.layers.core.Activation object at 0x7f5a59a6a5c0>\n",
            "42 (trainable=True) : <tensorflow.python.keras.layers.convolutional.Conv2D object at 0x7f5a59a629b0>\n",
            "43 (trainable=True) : <tensorflow.python.keras.layers.normalization.BatchNormalization object at 0x7f5a59a10ba8>\n",
            "44 (trainable=True) : <tensorflow.python.keras.layers.core.Activation object at 0x7f5a59a1a668>\n",
            "45 (trainable=True) : <tensorflow.python.keras.layers.convolutional.Conv2D object at 0x7f5a59a84e10>\n",
            "46 (trainable=True) : <tensorflow.python.keras.layers.convolutional.Conv2D object at 0x7f5a59a10860>\n",
            "47 (trainable=True) : <tensorflow.python.keras.layers.normalization.BatchNormalization object at 0x7f5a59a32e10>\n",
            "48 (trainable=True) : <tensorflow.python.keras.layers.normalization.BatchNormalization object at 0x7f5a599c1c50>\n",
            "49 (trainable=True) : <tensorflow.python.keras.layers.merge.Add object at 0x7f5a599c1c18>\n",
            "50 (trainable=True) : <tensorflow.python.keras.layers.core.Activation object at 0x7f5a599c1ef0>\n",
            "51 (trainable=True) : <tensorflow.python.keras.layers.convolutional.Conv2D object at 0x7f5a599c9748>\n",
            "52 (trainable=True) : <tensorflow.python.keras.layers.normalization.BatchNormalization object at 0x7f5a5996ec88>\n",
            "53 (trainable=True) : <tensorflow.python.keras.layers.core.Activation object at 0x7f5a59979b38>\n",
            "54 (trainable=True) : <tensorflow.python.keras.layers.convolutional.Conv2D object at 0x7f5a599790f0>\n",
            "55 (trainable=True) : <tensorflow.python.keras.layers.normalization.BatchNormalization object at 0x7f5a599a1d30>\n",
            "56 (trainable=True) : <tensorflow.python.keras.layers.core.Activation object at 0x7f5a599a8be0>\n",
            "57 (trainable=True) : <tensorflow.python.keras.layers.convolutional.Conv2D object at 0x7f5a599a8198>\n",
            "58 (trainable=True) : <tensorflow.python.keras.layers.normalization.BatchNormalization object at 0x7f5a5994edd8>\n",
            "59 (trainable=True) : <tensorflow.python.keras.layers.merge.Add object at 0x7f5a59958c88>\n",
            "60 (trainable=True) : <tensorflow.python.keras.layers.core.Activation object at 0x7f5a59958240>\n",
            "61 (trainable=True) : <tensorflow.python.keras.layers.convolutional.Conv2D object at 0x7f5a59958550>\n",
            "62 (trainable=True) : <tensorflow.python.keras.layers.normalization.BatchNormalization object at 0x7f5a590cbe80>\n",
            "63 (trainable=True) : <tensorflow.python.keras.layers.core.Activation object at 0x7f5a590de0f0>\n",
            "64 (trainable=True) : <tensorflow.python.keras.layers.convolutional.Conv2D object at 0x7f5a590d42e8>\n",
            "65 (trainable=True) : <tensorflow.python.keras.layers.normalization.BatchNormalization object at 0x7f5a590846d8>\n",
            "66 (trainable=True) : <tensorflow.python.keras.layers.core.Activation object at 0x7f5a5908d198>\n",
            "67 (trainable=True) : <tensorflow.python.keras.layers.convolutional.Conv2D object at 0x7f5a59084390>\n",
            "68 (trainable=True) : <tensorflow.python.keras.layers.normalization.BatchNormalization object at 0x7f5a590b3780>\n",
            "69 (trainable=True) : <tensorflow.python.keras.layers.merge.Add object at 0x7f5a58ebd240>\n",
            "70 (trainable=True) : <tensorflow.python.keras.layers.core.Activation object at 0x7f5a590b3438>\n",
            "71 (trainable=True) : <tensorflow.python.keras.layers.convolutional.Conv2D object at 0x7f5a590b3ac8>\n",
            "72 (trainable=True) : <tensorflow.python.keras.layers.normalization.BatchNormalization object at 0x7f5a58ee5ba8>\n",
            "73 (trainable=True) : <tensorflow.python.keras.layers.core.Activation object at 0x7f5a58eec668>\n",
            "74 (trainable=True) : <tensorflow.python.keras.layers.convolutional.Conv2D object at 0x7f5a58ee5860>\n",
            "75 (trainable=True) : <tensorflow.python.keras.layers.normalization.BatchNormalization object at 0x7f5a58e94c50>\n",
            "76 (trainable=True) : <tensorflow.python.keras.layers.core.Activation object at 0x7f5a58e94c18>\n",
            "77 (trainable=True) : <tensorflow.python.keras.layers.convolutional.Conv2D object at 0x7f5a58e94ef0>\n",
            "78 (trainable=True) : <tensorflow.python.keras.layers.normalization.BatchNormalization object at 0x7f5a58e41cf8>\n",
            "79 (trainable=True) : <tensorflow.python.keras.layers.merge.Add object at 0x7f5a58e41cc0>\n",
            "80 (trainable=True) : <tensorflow.python.keras.layers.core.Activation object at 0x7f5a58e419b0>\n",
            "81 (trainable=True) : <tensorflow.python.keras.layers.convolutional.Conv2D object at 0x7f5a58dfbbe0>\n",
            "82 (trainable=True) : <tensorflow.python.keras.layers.normalization.BatchNormalization object at 0x7f5a58dfb7f0>\n",
            "83 (trainable=True) : <tensorflow.python.keras.layers.core.Activation object at 0x7f5a58e21dd8>\n",
            "84 (trainable=True) : <tensorflow.python.keras.layers.convolutional.Conv2D object at 0x7f5a58e2a128>\n",
            "85 (trainable=True) : <tensorflow.python.keras.layers.normalization.BatchNormalization object at 0x7f5a58dd0eb8>\n",
            "86 (trainable=True) : <tensorflow.python.keras.layers.core.Activation object at 0x7f5a58dd0e80>\n",
            "87 (trainable=True) : <tensorflow.python.keras.layers.convolutional.Conv2D object at 0x7f5a58e4a080>\n",
            "88 (trainable=True) : <tensorflow.python.keras.layers.convolutional.Conv2D object at 0x7f5a58dd71d0>\n",
            "89 (trainable=True) : <tensorflow.python.keras.layers.normalization.BatchNormalization object at 0x7f5a58e71d30>\n",
            "90 (trainable=True) : <tensorflow.python.keras.layers.normalization.BatchNormalization object at 0x7f5a58d7cf60>\n",
            "91 (trainable=True) : <tensorflow.python.keras.layers.merge.Add object at 0x7f5a58d7cf28>\n",
            "92 (trainable=True) : <tensorflow.python.keras.layers.core.Activation object at 0x7f5a58d85278>\n",
            "93 (trainable=True) : <tensorflow.python.keras.layers.convolutional.Conv2D object at 0x7f5a58d852e8>\n",
            "94 (trainable=True) : <tensorflow.python.keras.layers.normalization.BatchNormalization object at 0x7f5a58daecf8>\n",
            "95 (trainable=True) : <tensorflow.python.keras.layers.core.Activation object at 0x7f5a58d39e48>\n",
            "96 (trainable=True) : <tensorflow.python.keras.layers.convolutional.Conv2D object at 0x7f5a58d39080>\n",
            "97 (trainable=True) : <tensorflow.python.keras.layers.normalization.BatchNormalization object at 0x7f5a58d5eef0>\n",
            "98 (trainable=True) : <tensorflow.python.keras.layers.core.Activation object at 0x7f5a58d69ef0>\n",
            "99 (trainable=True) : <tensorflow.python.keras.layers.convolutional.Conv2D object at 0x7f5a58d69128>\n",
            "100 (trainable=True) : <tensorflow.python.keras.layers.normalization.BatchNormalization object at 0x7f5a58d17518>\n",
            "101 (trainable=True) : <tensorflow.python.keras.layers.merge.Add object at 0x7f5a58d17f98>\n",
            "102 (trainable=True) : <tensorflow.python.keras.layers.core.Activation object at 0x7f5a58d171d0>\n",
            "103 (trainable=True) : <tensorflow.python.keras.layers.convolutional.Conv2D object at 0x7f5a58d17860>\n",
            "104 (trainable=True) : <tensorflow.python.keras.layers.normalization.BatchNormalization object at 0x7f5a58cc7940>\n",
            "105 (trainable=True) : <tensorflow.python.keras.layers.core.Activation object at 0x7f5a58cce400>\n",
            "106 (trainable=True) : <tensorflow.python.keras.layers.convolutional.Conv2D object at 0x7f5a58cc75f8>\n",
            "107 (trainable=True) : <tensorflow.python.keras.layers.normalization.BatchNormalization object at 0x7f5a58c789e8>\n",
            "108 (trainable=True) : <tensorflow.python.keras.layers.core.Activation object at 0x7f5a58c7f4a8>\n",
            "109 (trainable=True) : <tensorflow.python.keras.layers.convolutional.Conv2D object at 0x7f5a58c786a0>\n",
            "110 (trainable=True) : <tensorflow.python.keras.layers.normalization.BatchNormalization object at 0x7f5a58ca7a90>\n",
            "111 (trainable=True) : <tensorflow.python.keras.layers.merge.Add object at 0x7f5a58cb0550>\n",
            "112 (trainable=True) : <tensorflow.python.keras.layers.core.Activation object at 0x7f5a58ca7748>\n",
            "113 (trainable=True) : <tensorflow.python.keras.layers.convolutional.Conv2D object at 0x7f5a58ca7eb8>\n",
            "114 (trainable=True) : <tensorflow.python.keras.layers.normalization.BatchNormalization object at 0x7f5a58c57eb8>\n",
            "115 (trainable=True) : <tensorflow.python.keras.layers.core.Activation object at 0x7f5a58c57e80>\n",
            "116 (trainable=True) : <tensorflow.python.keras.layers.convolutional.Conv2D object at 0x7f5a58c5e1d0>\n",
            "117 (trainable=True) : <tensorflow.python.keras.layers.normalization.BatchNormalization object at 0x7f5a58c04f60>\n",
            "118 (trainable=True) : <tensorflow.python.keras.layers.core.Activation object at 0x7f5a58c04f28>\n",
            "119 (trainable=True) : <tensorflow.python.keras.layers.convolutional.Conv2D object at 0x7f5a58c0d278>\n",
            "120 (trainable=True) : <tensorflow.python.keras.layers.normalization.BatchNormalization object at 0x7f5a58c34c18>\n",
            "121 (trainable=True) : <tensorflow.python.keras.layers.merge.Add object at 0x7f5a58c34fd0>\n",
            "122 (trainable=True) : <tensorflow.python.keras.layers.core.Activation object at 0x7f5a58bbd048>\n",
            "123 (trainable=True) : <tensorflow.python.keras.layers.convolutional.Conv2D object at 0x7f5a58bbd390>\n",
            "124 (trainable=True) : <tensorflow.python.keras.layers.normalization.BatchNormalization object at 0x7f5a58be3cc0>\n",
            "125 (trainable=True) : <tensorflow.python.keras.layers.core.Activation object at 0x7f5a58beeef0>\n",
            "126 (trainable=True) : <tensorflow.python.keras.layers.convolutional.Conv2D object at 0x7f5a58bee128>\n",
            "127 (trainable=True) : <tensorflow.python.keras.layers.normalization.BatchNormalization object at 0x7f5a58b99518>\n",
            "128 (trainable=True) : <tensorflow.python.keras.layers.core.Activation object at 0x7f5a58b99f98>\n",
            "129 (trainable=True) : <tensorflow.python.keras.layers.convolutional.Conv2D object at 0x7f5a58b991d0>\n",
            "130 (trainable=True) : <tensorflow.python.keras.layers.normalization.BatchNormalization object at 0x7f5a58b485c0>\n",
            "131 (trainable=True) : <tensorflow.python.keras.layers.merge.Add object at 0x7f5a58b55080>\n",
            "132 (trainable=True) : <tensorflow.python.keras.layers.core.Activation object at 0x7f5a58b48278>\n",
            "133 (trainable=True) : <tensorflow.python.keras.layers.convolutional.Conv2D object at 0x7f5a58b48908>\n",
            "134 (trainable=True) : <tensorflow.python.keras.layers.normalization.BatchNormalization object at 0x7f5a58afb9e8>\n",
            "135 (trainable=True) : <tensorflow.python.keras.layers.core.Activation object at 0x7f5a58b024a8>\n",
            "136 (trainable=True) : <tensorflow.python.keras.layers.convolutional.Conv2D object at 0x7f5a58afb6a0>\n",
            "137 (trainable=True) : <tensorflow.python.keras.layers.normalization.BatchNormalization object at 0x7f5a58b2ba90>\n",
            "138 (trainable=True) : <tensorflow.python.keras.layers.core.Activation object at 0x7f5a58b32550>\n",
            "139 (trainable=True) : <tensorflow.python.keras.layers.convolutional.Conv2D object at 0x7f5a58b2b748>\n",
            "140 (trainable=True) : <tensorflow.python.keras.layers.normalization.BatchNormalization object at 0x7f5a58adcb38>\n",
            "141 (trainable=True) : <tensorflow.python.keras.layers.merge.Add object at 0x7f5a58ae25f8>\n",
            "142 (trainable=True) : <tensorflow.python.keras.layers.core.Activation object at 0x7f5a58adc7f0>\n",
            "143 (trainable=True) : <tensorflow.python.keras.layers.convolutional.Conv2D object at 0x7f5a58a8bf28>\n",
            "144 (trainable=True) : <tensorflow.python.keras.layers.normalization.BatchNormalization object at 0x7f5a58a95630>\n",
            "145 (trainable=True) : <tensorflow.python.keras.layers.core.Activation object at 0x7f5a58a39c18>\n",
            "146 (trainable=True) : <tensorflow.python.keras.layers.convolutional.Conv2D object at 0x7f5a58a39ef0>\n",
            "147 (trainable=True) : <tensorflow.python.keras.layers.normalization.BatchNormalization object at 0x7f5a58a69cf8>\n",
            "148 (trainable=True) : <tensorflow.python.keras.layers.core.Activation object at 0x7f5a58a69cc0>\n",
            "149 (trainable=True) : <tensorflow.python.keras.layers.convolutional.Conv2D object at 0x7f5a58adce80>\n",
            "150 (trainable=True) : <tensorflow.python.keras.layers.convolutional.Conv2D object at 0x7f5a58a699b0>\n",
            "151 (trainable=True) : <tensorflow.python.keras.layers.normalization.BatchNormalization object at 0x7f5a58a8bf60>\n",
            "152 (trainable=True) : <tensorflow.python.keras.layers.normalization.BatchNormalization object at 0x7f5a58a18da0>\n",
            "153 (trainable=True) : <tensorflow.python.keras.layers.merge.Add object at 0x7f5a58a18d68>\n",
            "154 (trainable=True) : <tensorflow.python.keras.layers.core.Activation object at 0x7f5a58a22080>\n",
            "155 (trainable=True) : <tensorflow.python.keras.layers.convolutional.Conv2D object at 0x7f5a58a22128>\n",
            "156 (trainable=True) : <tensorflow.python.keras.layers.normalization.BatchNormalization object at 0x7f5a589c9dd8>\n",
            "157 (trainable=True) : <tensorflow.python.keras.layers.core.Activation object at 0x7f5a589d3c88>\n",
            "158 (trainable=True) : <tensorflow.python.keras.layers.convolutional.Conv2D object at 0x7f5a589d3240>\n",
            "159 (trainable=True) : <tensorflow.python.keras.layers.normalization.BatchNormalization object at 0x7f5a589f6dd8>\n",
            "160 (trainable=True) : <tensorflow.python.keras.layers.core.Activation object at 0x7f5a58980d30>\n",
            "161 (trainable=True) : <tensorflow.python.keras.layers.convolutional.Conv2D object at 0x7f5a589800b8>\n",
            "162 (trainable=True) : <tensorflow.python.keras.layers.normalization.BatchNormalization object at 0x7f5a589a4e80>\n",
            "163 (trainable=True) : <tensorflow.python.keras.layers.merge.Add object at 0x7f5a589afdd8>\n",
            "164 (trainable=True) : <tensorflow.python.keras.layers.core.Activation object at 0x7f5a589af160>\n",
            "165 (trainable=True) : <tensorflow.python.keras.layers.convolutional.Conv2D object at 0x7f5a589af6a0>\n",
            "166 (trainable=True) : <tensorflow.python.keras.layers.normalization.BatchNormalization object at 0x7f5a5895f780>\n",
            "167 (trainable=True) : <tensorflow.python.keras.layers.core.Activation object at 0x7f5a58969240>\n",
            "168 (trainable=True) : <tensorflow.python.keras.layers.convolutional.Conv2D object at 0x7f5a5895f438>\n",
            "169 (trainable=True) : <tensorflow.python.keras.layers.normalization.BatchNormalization object at 0x7f5a58910828>\n",
            "170 (trainable=True) : <tensorflow.python.keras.layers.core.Activation object at 0x7f5a589182e8>\n",
            "171 (trainable=True) : <tensorflow.python.keras.layers.convolutional.Conv2D object at 0x7f5a589104e0>\n",
            "172 (trainable=True) : <tensorflow.python.keras.layers.normalization.BatchNormalization object at 0x7f5a578bd8d0>\n",
            "173 (trainable=True) : <tensorflow.python.keras.layers.merge.Add object at 0x7f5a578c4390>\n",
            "174 (trainable=True) : <tensorflow.python.keras.layers.core.Activation object at 0x7f5a578bd588>\n",
            "175 (trainable=True) : <tensorflow.python.keras.layers.core.Flatten object at 0x7f5a5a112da0>\n",
            "176 (trainable=True) : <tensorflow.python.keras.layers.core.Dropout object at 0x7f5a578b2b00>\n",
            "177 (trainable=True) : <tensorflow.python.keras.layers.core.Dense object at 0x7f5a57821518>\n"
          ],
          "name": "stdout"
        }
      ]
    },
    {
      "cell_type": "code",
      "metadata": {
        "id": "nKf_kSVKOYd3",
        "colab_type": "code",
        "colab": {
          "base_uri": "https://localhost:8080/",
          "height": 428
        },
        "outputId": "04890790-0f76-4e5a-fb53-6dd1c2ed039e"
      },
      "source": [
        "learner.lr_find()"
      ],
      "execution_count": 8,
      "outputs": [
        {
          "output_type": "stream",
          "text": [
            "simulating training for different learning rates... this may take a few moments...\n",
            "Train for 119 steps\n",
            "Epoch 1/1024\n",
            "119/119 [==============================] - 164s 1s/step - loss: 1.9342 - accuracy: 0.4672\n",
            "Epoch 2/1024\n",
            "119/119 [==============================] - 171s 1s/step - loss: 1.6171 - accuracy: 0.5252\n",
            "Epoch 3/1024\n",
            "119/119 [==============================] - 170s 1s/step - loss: 1.1075 - accuracy: 0.6488\n",
            "Epoch 4/1024\n",
            "119/119 [==============================] - 173s 1s/step - loss: 0.5917 - accuracy: 0.8092\n",
            "Epoch 5/1024\n",
            "119/119 [==============================] - 170s 1s/step - loss: 0.3210 - accuracy: 0.9032\n",
            "Epoch 6/1024\n",
            "119/119 [==============================] - 172s 1s/step - loss: 0.2186 - accuracy: 0.9421\n",
            "Epoch 7/1024\n",
            "119/119 [==============================] - 172s 1s/step - loss: 0.1951 - accuracy: 0.9530\n",
            "Epoch 8/1024\n",
            "119/119 [==============================] - 171s 1s/step - loss: 0.4734 - accuracy: 0.9216\n",
            "Epoch 9/1024\n",
            " 19/119 [===>..........................] - ETA: 4:04 - loss: 1.3031 - accuracy: 0.8561\n",
            "\n",
            "done.\n",
            "Please invoke the Learner.lr_plot() method to visually inspect the loss plot to help identify the maximal learning rate associated with falling loss.\n"
          ],
          "name": "stdout"
        }
      ]
    },
    {
      "cell_type": "code",
      "metadata": {
        "id": "-WDn8BQCSONz",
        "colab_type": "code",
        "colab": {
          "base_uri": "https://localhost:8080/",
          "height": 283
        },
        "outputId": "1356f7a7-eb6f-4dad-bdaa-d2f49358a10c"
      },
      "source": [
        "learner.lr_plot()\n"
      ],
      "execution_count": 9,
      "outputs": [
        {
          "output_type": "display_data",
          "data": {
            "image/png": "[encoded data removed]",
            "text/plain": [
              "<Figure size 432x288 with 1 Axes>"
            ]
          },
          "metadata": {
            "tags": [],
            "needs_background": "light"
          }
        }
      ]
    },
    {
      "cell_type": "code",
      "metadata": {
        "id": "nPb4ip0ISaFZ",
        "colab_type": "code",
        "colab": {
          "base_uri": "https://localhost:8080/",
          "height": 547
        },
        "outputId": "4220d67e-57fc-405b-dc9b-0300886a490c"
      },
      "source": [
        "learner.autofit(1e-4)"
      ],
      "execution_count": 11,
      "outputs": [
        {
          "output_type": "stream",
          "text": [
            "early_stopping automatically enabled at patience=5\n",
            "reduce_on_plateau automatically enabled at patience=2\n",
            "\n",
            "\n",
            "begin training using triangular learning rate policy with max lr of 0.0001...\n",
            "Train for 119 steps, validate for 20 steps\n",
            "Epoch 1/1024\n",
            "119/119 [==============================] - 188s 2s/step - loss: 0.4784 - accuracy: 0.8682 - val_loss: 0.4395 - val_accuracy: 0.9087\n",
            "Epoch 2/1024\n",
            "119/119 [==============================] - 187s 2s/step - loss: 0.1764 - accuracy: 0.9515 - val_loss: 0.9085 - val_accuracy: 0.7885\n",
            "Epoch 3/1024\n",
            "119/119 [==============================] - 187s 2s/step - loss: 0.1359 - accuracy: 0.9618 - val_loss: 0.3810 - val_accuracy: 0.8974\n",
            "Epoch 4/1024\n",
            "119/119 [==============================] - 187s 2s/step - loss: 0.1280 - accuracy: 0.9648 - val_loss: 0.7755 - val_accuracy: 0.8542\n",
            "Epoch 5/1024\n",
            "118/119 [============================>.] - ETA: 1s - loss: 0.1118 - accuracy: 0.9690\n",
            "Epoch 00005: Reducing Max LR on Plateau: new max lr will be 5e-05 (if not early_stopping).\n",
            "119/119 [==============================] - 188s 2s/step - loss: 0.1109 - accuracy: 0.9693 - val_loss: 0.5894 - val_accuracy: 0.8878\n",
            "Epoch 6/1024\n",
            "119/119 [==============================] - 190s 2s/step - loss: 0.0885 - accuracy: 0.9744 - val_loss: 0.5783 - val_accuracy: 0.8910\n",
            "Epoch 7/1024\n",
            "118/119 [============================>.] - ETA: 1s - loss: 0.0715 - accuracy: 0.9766\n",
            "Epoch 00007: Reducing Max LR on Plateau: new max lr will be 2.5e-05 (if not early_stopping).\n",
            "119/119 [==============================] - 192s 2s/step - loss: 0.0715 - accuracy: 0.9766 - val_loss: 0.8736 - val_accuracy: 0.8526\n",
            "Epoch 8/1024\n",
            "118/119 [============================>.] - ETA: 1s - loss: 0.0683 - accuracy: 0.9792Restoring model weights from the end of the best epoch.\n",
            "119/119 [==============================] - 192s 2s/step - loss: 0.0686 - accuracy: 0.9793 - val_loss: 0.8251 - val_accuracy: 0.8558\n",
            "Epoch 00008: early stopping\n",
            "Weights from best epoch have been loaded into model.\n"
          ],
          "name": "stdout"
        },
        {
          "output_type": "execute_result",
          "data": {
            "text/plain": [
              "<tensorflow.python.keras.callbacks.History at 0x7f59a71117f0>"
            ]
          },
          "metadata": {
            "tags": []
          },
          "execution_count": 11
        }
      ]
    },
    {
      "cell_type": "code",
      "metadata": {
        "id": "ZfUYnDabuty4",
        "colab_type": "code",
        "colab": {}
      },
      "source": [
        "loss, acc = learner.model.evaluate_generator(learner.val_data, \n",
        "                                             steps=len(learner.val_data))"
      ],
      "execution_count": 12,
      "outputs": []
    },
    {
      "cell_type": "code",
      "metadata": {
        "id": "_hTVOA-guyV1",
        "colab_type": "code",
        "colab": {
          "base_uri": "https://localhost:8080/",
          "height": 34
        },
        "outputId": "e9ec59da-5324-4e06-fe26-6f2b16e322c3"
      },
      "source": [
        "print('final loss:%s, final accuracy:%s' % (loss, acc))"
      ],
      "execution_count": 13,
      "outputs": [
        {
          "output_type": "stream",
          "text": [
            "final loss:0.3809508830308914, final accuracy:0.8974359\n"
          ],
          "name": "stdout"
        }
      ]
    },
    {
      "cell_type": "code",
      "metadata": {
        "id": "EWy63yfWU-w9",
        "colab_type": "code",
        "colab": {}
      },
      "source": [
        "predictor = ktrain.get_predictor(learner.model, preproc)"
      ],
      "execution_count": 14,
      "outputs": []
    },
    {
      "cell_type": "code",
      "metadata": {
        "id": "X6-eXm7ZU_aj",
        "colab_type": "code",
        "colab": {
          "base_uri": "https://localhost:8080/",
          "height": 34
        },
        "outputId": "8620a86b-0ef9-48e3-d393-e77034b9ce34"
      },
      "source": [
        "predictor.predict_filename('/content/chestxraydata/chest_xray/val/PNEUMONIA/person1946_bacteria_4874.jpeg')"
      ],
      "execution_count": 15,
      "outputs": [
        {
          "output_type": "execute_result",
          "data": {
            "text/plain": [
              "['PNEUMONIA']"
            ]
          },
          "metadata": {
            "tags": []
          },
          "execution_count": 15
        }
      ]
    },
    {
      "cell_type": "code",
      "metadata": {
        "id": "ZIt9b-WQVWRG",
        "colab_type": "code",
        "colab": {
          "base_uri": "https://localhost:8080/",
          "height": 34
        },
        "outputId": "180c68d1-7262-40ff-eabf-855b72200fc8"
      },
      "source": [
        "predictor.predict_filename('/content/chestxraydata/chest_xray/test/NORMAL/IM-0001-0001.jpeg')"
      ],
      "execution_count": 17,
      "outputs": [
        {
          "output_type": "execute_result",
          "data": {
            "text/plain": [
              "['NORMAL']"
            ]
          },
          "metadata": {
            "tags": []
          },
          "execution_count": 17
        }
      ]
    },
    {
      "cell_type": "code",
      "metadata": {
        "id": "lHHDgxiDvhlH",
        "colab_type": "code",
        "colab": {
          "base_uri": "https://localhost:8080/",
          "height": 34
        },
        "outputId": "80bda1db-1460-48dc-8a12-7bea6ac09242"
      },
      "source": [
        "predictor.predict_filename('/content/chestxraydata/chest_xray/val/NORMAL/NORMAL2-IM-1440-0001.jpeg')"
      ],
      "execution_count": 18,
      "outputs": [
        {
          "output_type": "execute_result",
          "data": {
            "text/plain": [
              "['NORMAL']"
            ]
          },
          "metadata": {
            "tags": []
          },
          "execution_count": 18
        }
      ]
    },
    {
      "cell_type": "code",
      "metadata": {
        "id": "LkK2VGFrvo5n",
        "colab_type": "code",
        "colab": {
          "base_uri": "https://localhost:8080/",
          "height": 34
        },
        "outputId": "144497fe-b283-42db-eff1-dd9292cdbcb8"
      },
      "source": [
        "predictor.predict_filename('/content/chestxraydata/chest_xray/val/NORMAL/NORMAL2-IM-1431-0001.jpeg')"
      ],
      "execution_count": 19,
      "outputs": [
        {
          "output_type": "execute_result",
          "data": {
            "text/plain": [
              "['NORMAL']"
            ]
          },
          "metadata": {
            "tags": []
          },
          "execution_count": 19
        }
      ]
    },
    {
      "cell_type": "code",
      "metadata": {
        "id": "0MvRm3KevwCW",
        "colab_type": "code",
        "colab": {
          "base_uri": "https://localhost:8080/",
          "height": 34
        },
        "outputId": "08aff03d-1aa4-4a7b-bf42-f3c9063178f0"
      },
      "source": [
        "predictor.predict_filename('/content/chestxraydata/chest_xray/val/PNEUMONIA/person1950_bacteria_4881.jpeg')"
      ],
      "execution_count": 20,
      "outputs": [
        {
          "output_type": "execute_result",
          "data": {
            "text/plain": [
              "['PNEUMONIA']"
            ]
          },
          "metadata": {
            "tags": []
          },
          "execution_count": 20
        }
      ]
    },
    {
      "cell_type": "code",
      "metadata": {
        "id": "wJI7hgTZv7Hq",
        "colab_type": "code",
        "colab": {
          "base_uri": "https://localhost:8080/",
          "height": 170
        },
        "outputId": "945b7c70-3ccf-4071-9e63-2d36dddc7b8d"
      },
      "source": [
        "predictor.predict_folder('/content/chestxraydata/chest_xray/val/PNEUMONIA')[:8]"
      ],
      "execution_count": 21,
      "outputs": [
        {
          "output_type": "stream",
          "text": [
            "Found 8 images belonging to 1 classes.\n"
          ],
          "name": "stdout"
        },
        {
          "output_type": "execute_result",
          "data": {
            "text/plain": [
              "[('PNEUMONIA/person1946_bacteria_4874.jpeg', 'PNEUMONIA'),\n",
              " ('PNEUMONIA/person1946_bacteria_4875.jpeg', 'PNEUMONIA'),\n",
              " ('PNEUMONIA/person1947_bacteria_4876.jpeg', 'PNEUMONIA'),\n",
              " ('PNEUMONIA/person1949_bacteria_4880.jpeg', 'NORMAL'),\n",
              " ('PNEUMONIA/person1950_bacteria_4881.jpeg', 'PNEUMONIA'),\n",
              " ('PNEUMONIA/person1951_bacteria_4882.jpeg', 'PNEUMONIA'),\n",
              " ('PNEUMONIA/person1952_bacteria_4883.jpeg', 'PNEUMONIA'),\n",
              " ('PNEUMONIA/person1954_bacteria_4886.jpeg', 'NORMAL')]"
            ]
          },
          "metadata": {
            "tags": []
          },
          "execution_count": 21
        }
      ]
    },
    {
      "cell_type": "code",
      "metadata": {
        "id": "8zjiGxGlwIRm",
        "colab_type": "code",
        "colab": {
          "base_uri": "https://localhost:8080/",
          "height": 170
        },
        "outputId": "e26893d7-6fe8-414f-e94e-6a6434c71cbd"
      },
      "source": [
        "predictor.predict_folder('/content/chestxraydata/chest_xray/val/NORMAL')[:8]"
      ],
      "execution_count": 22,
      "outputs": [
        {
          "output_type": "stream",
          "text": [
            "Found 8 images belonging to 1 classes.\n"
          ],
          "name": "stdout"
        },
        {
          "output_type": "execute_result",
          "data": {
            "text/plain": [
              "[('NORMAL/NORMAL2-IM-1427-0001.jpeg', 'NORMAL'),\n",
              " ('NORMAL/NORMAL2-IM-1430-0001.jpeg', 'NORMAL'),\n",
              " ('NORMAL/NORMAL2-IM-1431-0001.jpeg', 'NORMAL'),\n",
              " ('NORMAL/NORMAL2-IM-1436-0001.jpeg', 'PNEUMONIA'),\n",
              " ('NORMAL/NORMAL2-IM-1437-0001.jpeg', 'NORMAL'),\n",
              " ('NORMAL/NORMAL2-IM-1438-0001.jpeg', 'NORMAL'),\n",
              " ('NORMAL/NORMAL2-IM-1440-0001.jpeg', 'NORMAL'),\n",
              " ('NORMAL/NORMAL2-IM-1442-0001.jpeg', 'NORMAL')]"
            ]
          },
          "metadata": {
            "tags": []
          },
          "execution_count": 22
        }
      ]
    }
  ]
}