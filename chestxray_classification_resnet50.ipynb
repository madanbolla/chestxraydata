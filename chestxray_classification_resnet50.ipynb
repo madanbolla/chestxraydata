{
  "nbformat": 4,
  "nbformat_minor": 0,
  "metadata": {
    "colab": {
      "name": "chestxray_classification_resnet50.ipynb",
      "provenance": [],
      "authorship_tag": "ABX9TyNDoIam6pDpHBnQOXsygc36",
      "include_colab_link": true
    },
    "kernelspec": {
      "name": "python3",
      "display_name": "Python 3"
    },
    "accelerator": "GPU"
  },
  "cells": [
    {
      "cell_type": "markdown",
      "metadata": {
        "id": "view-in-github",
        "colab_type": "text"
      },
      "source": [
        "<a href=\"https://colab.research.google.com/github/madanbolla/chestxraydata/blob/master/chestxray_classification_resnet50.ipynb\" target=\"_parent\"><img src=\"https://colab.research.google.com/assets/colab-badge.svg\" alt=\"Open In Colab\"/></a>"
      ]
    },
    {
      "cell_type": "code",
      "metadata": {
        "id": "66VSlYgIDBTe",
        "colab_type": "code",
        "colab": {
          "base_uri": "https://localhost:8080/",
          "height": 102
        },
        "outputId": "56fcc4f2-5cbf-47e1-96be-9c2e26e8b9fd"
      },
      "source": [
        "!git clone https://github.com/madanbolla/chestxraydata.git"
      ],
      "execution_count": 1,
      "outputs": [
        {
          "output_type": "stream",
          "text": [
            "Cloning into 'chestxraydata'...\n",
            "remote: Enumerating objects: 8236, done.\u001b[K\n",
            "remote: Total 8236 (delta 0), reused 0 (delta 0), pack-reused 8236\u001b[K\n",
            "Receiving objects: 100% (8236/8236), 1.15 GiB | 40.66 MiB/s, done.\n",
            "Checking out files: 100% (8256/8256), done.\n"
          ],
          "name": "stdout"
        }
      ]
    },
    {
      "cell_type": "code",
      "metadata": {
        "id": "3IP-78--NIN2",
        "colab_type": "code",
        "colab": {}
      },
      "source": [
        "!pip install -q ktrain"
      ],
      "execution_count": 4,
      "outputs": []
    },
    {
      "cell_type": "code",
      "metadata": {
        "id": "NS3NAj2YMfDJ",
        "colab_type": "code",
        "colab": {}
      },
      "source": [
        "import ktrain\n",
        "from ktrain import vision as vis"
      ],
      "execution_count": 5,
      "outputs": []
    },
    {
      "cell_type": "code",
      "metadata": {
        "id": "eF1M2huROEU2",
        "colab_type": "code",
        "colab": {
          "base_uri": "https://localhost:8080/",
          "height": 85
        },
        "outputId": "2a342e2b-4000-46f1-c237-e663a0849aa0"
      },
      "source": [
        "(trn, val, preproc) = vis.images_from_folder(\n",
        "                                              datadir='/content/chestxraydata/chest_xray',\n",
        "                                              data_aug = vis.get_data_aug(horizontal_flip=True),\n",
        "                                              train_test_names=['train', 'test'])"
      ],
      "execution_count": 6,
      "outputs": [
        {
          "output_type": "stream",
          "text": [
            "color_mode detected (grayscale) different than color_mode selected (rgb)\n",
            "Found 7616 images belonging to 2 classes.\n",
            "Found 7616 images belonging to 2 classes.\n",
            "Found 624 images belonging to 2 classes.\n"
          ],
          "name": "stdout"
        }
      ]
    },
    {
      "cell_type": "code",
      "metadata": {
        "id": "Z0dd0UIdOQAl",
        "colab_type": "code",
        "colab": {
          "base_uri": "https://localhost:8080/",
          "height": 156
        },
        "outputId": "7544f0a1-624a-4843-dafe-fcf92ba263ee"
      },
      "source": [
        "model = vis.image_classifier('pretrained_resnet50', trn, val, freeze_layers=15)\n",
        "learner = ktrain.get_learner(model=model, train_data=trn, val_data=val, \n",
        "                             workers=8, use_multiprocessing=False, batch_size=64)"
      ],
      "execution_count": 7,
      "outputs": [
        {
          "output_type": "stream",
          "text": [
            "The normalization scheme has been changed for use with a pretrained_resnet50 model. If you decide to use a different model, please reload your dataset with a ktrain.vision.data.images_from* function.\n",
            "\n",
            "Is Multi-Label? False\n",
            "Is Regression? False\n",
            "Downloading data from https://github.com/keras-team/keras-applications/releases/download/resnet/resnet50_weights_tf_dim_ordering_tf_kernels_notop.h5\n",
            "94773248/94765736 [==============================] - 1s 0us/step\n",
            "pretrained_resnet50 model created.\n"
          ],
          "name": "stdout"
        }
      ]
    },
    {
      "cell_type": "code",
      "metadata": {
        "id": "nKf_kSVKOYd3",
        "colab_type": "code",
        "colab": {
          "base_uri": "https://localhost:8080/",
          "height": 224
        },
        "outputId": "76b89dcf-1df7-406c-cc55-83ec11d81e4c"
      },
      "source": [
        "learner.lr_find(max_epochs=4)"
      ],
      "execution_count": 10,
      "outputs": [
        {
          "output_type": "stream",
          "text": [
            "simulating training for different learning rates... this may take a few moments...\n",
            "Train for 119 steps\n",
            "Epoch 1/4\n",
            "119/119 [==============================] - 163s 1s/step - loss: 1.5936 - accuracy: 0.5534\n",
            "Epoch 2/4\n",
            "119/119 [==============================] - 183s 2s/step - loss: 0.4392 - accuracy: 0.8801\n",
            "Epoch 3/4\n",
            " 42/119 [=========>....................] - ETA: 2:30 - loss: 2.9773 - accuracy: 0.8810\n",
            "\n",
            "done.\n",
            "Please invoke the Learner.lr_plot() method to visually inspect the loss plot to help identify the maximal learning rate associated with falling loss.\n"
          ],
          "name": "stdout"
        }
      ]
    },
    {
      "cell_type": "code",
      "metadata": {
        "id": "-WDn8BQCSONz",
        "colab_type": "code",
        "colab": {
          "base_uri": "https://localhost:8080/",
          "height": 283
        },
        "outputId": "2fea183a-4701-4133-d03e-866af3ad0d3a"
      },
      "source": [
        "learner.lr_plot()\n"
      ],
      "execution_count": 11,
      "outputs": [
        {
          "output_type": "display_data",
          "data": {
            "image/png": "[encoded data removed]",
            "text/plain": [
              "<Figure size 432x288 with 1 Axes>"
            ]
          },
          "metadata": {
            "tags": [],
            "needs_background": "light"
          }
        }
      ]
    },
    {
      "cell_type": "code",
      "metadata": {
        "id": "nPb4ip0ISaFZ",
        "colab_type": "code",
        "colab": {
          "base_uri": "https://localhost:8080/",
          "height": 139
        },
        "outputId": "dea29d18-ef71-4841-a04f-b1b4105e766b"
      },
      "source": [
        "learner.fit_onecycle(1e-4, 1)"
      ],
      "execution_count": 22,
      "outputs": [
        {
          "output_type": "stream",
          "text": [
            "\n",
            "\n",
            "begin training using onecycle policy with max lr of 0.0001...\n",
            "Train for 119 steps, validate for 20 steps\n",
            "119/119 [==============================] - 186s 2s/step - loss: 0.1399 - accuracy: 0.9537 - val_loss: 0.5205 - val_accuracy: 0.7324\n"
          ],
          "name": "stdout"
        },
        {
          "output_type": "execute_result",
          "data": {
            "text/plain": [
              "<tensorflow.python.keras.callbacks.History at 0x7fc9c01e34e0>"
            ]
          },
          "metadata": {
            "tags": []
          },
          "execution_count": 22
        }
      ]
    },
    {
      "cell_type": "code",
      "metadata": {
        "id": "EWy63yfWU-w9",
        "colab_type": "code",
        "colab": {}
      },
      "source": [
        "predictor = ktrain.get_predictor(learner.model, preproc)"
      ],
      "execution_count": 16,
      "outputs": []
    },
    {
      "cell_type": "code",
      "metadata": {
        "id": "X6-eXm7ZU_aj",
        "colab_type": "code",
        "colab": {
          "base_uri": "https://localhost:8080/",
          "height": 34
        },
        "outputId": "7f9dee28-3555-4d9e-c691-f68c62dbc634"
      },
      "source": [
        "predictor.predict_filename('/content/chestxraydata/chest_xray/val/PNEUMONIA/person1946_bacteria_4874.jpeg')"
      ],
      "execution_count": 24,
      "outputs": [
        {
          "output_type": "execute_result",
          "data": {
            "text/plain": [
              "['PNEUMONIA']"
            ]
          },
          "metadata": {
            "tags": []
          },
          "execution_count": 24
        }
      ]
    },
    {
      "cell_type": "code",
      "metadata": {
        "id": "ZIt9b-WQVWRG",
        "colab_type": "code",
        "colab": {
          "base_uri": "https://localhost:8080/",
          "height": 34
        },
        "outputId": "10227ff4-c403-4c5b-cce5-53b92c3cff27"
      },
      "source": [
        "predictor.predict_filename('/content/chestxraydata/chest_xray/val/NORMAL/NORMAL2-IM-1437-0001.jpeg')"
      ],
      "execution_count": 26,
      "outputs": [
        {
          "output_type": "execute_result",
          "data": {
            "text/plain": [
              "['PNEUMONIA']"
            ]
          },
          "metadata": {
            "tags": []
          },
          "execution_count": 26
        }
      ]
    }
  ]
}